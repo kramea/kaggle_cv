{
 "cells": [
  {
   "cell_type": "markdown",
   "metadata": {
    "collapsed": true
   },
   "source": [
    "# Explore DRAPER Satellite Image Data\n",
    "\n",
    "## Problem Statement\n",
    "\n",
    "Training data folder consists of satellite images daily taken from day one to day five. Test data folder consists of five sets of random images of the same place. The model has to use the train data and learn the pattern of images taken daily, and arrange the images of each set in the test folder.\n",
    "\n",
    "This notebook will go through some exploratory analysis of the images in the training dataset."
   ]
  },
  {
   "cell_type": "code",
   "execution_count": 17,
   "metadata": {},
   "outputs": [],
   "source": [
    "import cv2\n",
    "import numpy as np\n",
    "import sys\n",
    "from math import atan2, degrees, pi\n",
    "from skimage.data import camera\n",
    "from skimage.filters import roberts, sobel, scharr, prewitt\n",
    "import PIL\n",
    "from PIL import Image\n",
    "\n",
    "import matplotlib.pyplot as plt\n",
    "%matplotlib inline"
   ]
  },
  {
   "cell_type": "code",
   "execution_count": 4,
   "metadata": {},
   "outputs": [],
   "source": [
    "img1 = cv2.imread('/Users/kalaivanikubendran/Documents/Sideprojects/kalai-kaggle-code/train_sm/set175_1.jpeg',1)\n",
    "img2 = cv2.imread('/Users/kalaivanikubendran/Documents/Sideprojects/kalai-kaggle-code/train_sm/set175_2.jpeg',1)\n",
    "img3 = cv2.imread('/Users/kalaivanikubendran/Documents/Sideprojects/kalai-kaggle-code/train_sm/set175_3.jpeg',1)\n",
    "img4 = cv2.imread('/Users/kalaivanikubendran/Documents/Sideprojects/kalai-kaggle-code/train_sm/set175_4.jpeg',1)\n",
    "img5 = cv2.imread('/Users/kalaivanikubendran/Documents/Sideprojects/kalai-kaggle-code/train_sm/set175_5.jpeg',1)"
   ]
  },
  {
   "cell_type": "code",
   "execution_count": 5,
   "metadata": {},
   "outputs": [
    {
     "name": "stdout",
     "output_type": "stream",
     "text": [
      "Shape of RGB image is  (2329, 3100, 3)\nSize of RGB image is  21659700\n"
     ]
    }
   ],
   "source": [
    "print \"Shape of RGB image is \", img1.shape\n",
    "print \"Size of RGB image is \", img1.size"
   ]
  },
  {
   "cell_type": "markdown",
   "metadata": {},
   "source": [
    "Reading the image in grayscale"
   ]
  },
  {
   "cell_type": "code",
   "execution_count": 6,
   "metadata": {},
   "outputs": [],
   "source": [
    "img_gs = cv2.imread('/Users/kalaivanikubendran/Documents/Sideprojects/kalai-kaggle-code/train_sm/set175_1.jpeg',0)"
   ]
  },
  {
   "cell_type": "code",
   "execution_count": 7,
   "metadata": {},
   "outputs": [
    {
     "name": "stdout",
     "output_type": "stream",
     "text": [
      "Shape of Grayscale image is  (2329, 3100)\nSize of Grayscale image is  7219900\n"
     ]
    }
   ],
   "source": [
    "print \"Shape of Grayscale image is \", img_gs.shape\n",
    "print \"Size of Grayscale image is \", img_gs.size"
   ]
  },
  {
   "cell_type": "code",
   "execution_count": 16,
   "metadata": {},
   "outputs": [],
   "source": [
    "cv2.imshow('RGB Image', img1)\n",
    "cv2.destroyAllWindows()"
   ]
  },
  {
   "cell_type": "markdown",
   "metadata": {},
   "source": [
    "#### This function will reduce the size of the images"
   ]
  },
  {
   "cell_type": "code",
   "execution_count": 12,
   "metadata": {},
   "outputs": [],
   "source": [
    "basewidth = 300\n",
    "\u2028img = Image.open('/Users/kalaivanikubendran/Documents/Sideprojects/kalai-kaggle-code/train_sm/set175_1.jpeg')\n",
    "\u2028wpercent = (basewidth / float(img.size[0]))\n",
    "\u2028hsize = int((float(img.size[1]) * float(wpercent)))\n",
    "\u2028img = img.resize((basewidth, hsize), PIL.Image.ANTIALIAS)\n",
    "\u2028img.save('175-1-sm.jpg')"
   ]
  },
  {
   "cell_type": "code",
   "execution_count": 14,
   "metadata": {},
   "outputs": [
    {
     "name": "stdout",
     "output_type": "stream",
     "text": [
      "Size of the reduced RGB image is  202500\nShape of the reduced RGB image is  (225, 300, 3)\nSize of the Grayscale image is  67500\nShape of the Grayscale image is  (225, 300)\n"
     ]
    }
   ],
   "source": [
    "img_sm = cv2.imread('175-1-sm.jpg')\n",
    "\n",
    "print \"Size of the reduced RGB image is \", img_sm.size\n",
    "print \"Shape of the reduced RGB image is \", img_sm.shape\n",
    "\n",
    "img_sm_gs = cv2.imread('175-1-sm.jpg', 0)\n",
    "\n",
    "print \"Size of the Grayscale image is \", img_sm_gs.size\n",
    "print \"Shape of the Grayscale image is \", img_sm_gs.shape"
   ]
  },
  {
   "cell_type": "code",
   "execution_count": null,
   "metadata": {},
   "outputs": [],
   "source": [
    ""
   ]
  }
 ],
 "metadata": {
  "kernelspec": {
   "display_name": "Python 2",
   "language": "python",
   "name": "python2"
  },
  "language_info": {
   "codemirror_mode": {
    "name": "ipython",
    "version": 2.0
   },
   "file_extension": ".py",
   "mimetype": "text/x-python",
   "name": "python",
   "nbconvert_exporter": "python",
   "pygments_lexer": "ipython2",
   "version": "2.7.6"
  }
 },
 "nbformat": 4,
 "nbformat_minor": 0
}